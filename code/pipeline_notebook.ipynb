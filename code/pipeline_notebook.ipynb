{
 "cells": [
  {
   "cell_type": "markdown",
   "id": "b4e3c28c",
   "metadata": {},
   "source": [
    "# Historical Speeches to Clips - Execution Notebook\n",
    "\n",
    "This notebook is intended to leverage the classes and functions of the HSC package in order to create an interactive pipeline for generating 1 minute long clips."
   ]
  },
  {
   "cell_type": "code",
   "execution_count": null,
   "id": "acbdcd90",
   "metadata": {},
   "outputs": [],
   "source": [
    "# This cell controls the auto reloading of packages - disable to save time if not in development mode\n",
    "%load_ext autoreload\n",
    "# %reload_ext autoreload\n",
    "%autoreload 2"
   ]
  },
  {
   "cell_type": "code",
   "execution_count": 2,
   "id": "b53ee7ed",
   "metadata": {},
   "outputs": [],
   "source": [
    "# Path and System Configuration\\n,\n",
    "import pathlib, sys\n",
    "\n",
    "root = pathlib.Path.cwd().resolve().parent\n",
    "scripts_path = root / \"scripts\"\n",
    "\n",
    "if str(scripts_path) not in sys.path:\n",
    "    sys.path.insert(0, str(scripts_path))"
   ]
  },
  {
   "cell_type": "code",
   "execution_count": 3,
   "id": "71adb041",
   "metadata": {},
   "outputs": [],
   "source": [
    "# External Package Imports\n",
    "\n",
    "\n",
    "# Internal Package Imports\n",
    "from scripts.split_text import placeholder"
   ]
  },
  {
   "cell_type": "markdown",
   "id": "f0b4afb9",
   "metadata": {},
   "source": [
    "# Section 1: Text Processing"
   ]
  },
  {
   "cell_type": "code",
   "execution_count": 6,
   "id": "05134059",
   "metadata": {},
   "outputs": [
    {
     "name": "stdout",
     "output_type": "stream",
     "text": [
      "Hello World\n"
     ]
    }
   ],
   "source": [
    "placeholder()"
   ]
  },
  {
   "cell_type": "markdown",
   "id": "b42a27e4",
   "metadata": {},
   "source": []
  }
 ],
 "metadata": {
  "kernelspec": {
   "display_name": "Python (base)",
   "language": "python",
   "name": "base"
  },
  "language_info": {
   "codemirror_mode": {
    "name": "ipython",
    "version": 3
   },
   "file_extension": ".py",
   "mimetype": "text/x-python",
   "name": "python",
   "nbconvert_exporter": "python",
   "pygments_lexer": "ipython3",
   "version": "3.12.3"
  }
 },
 "nbformat": 4,
 "nbformat_minor": 5
}
